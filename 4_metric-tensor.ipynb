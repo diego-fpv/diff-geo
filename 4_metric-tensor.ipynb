{
 "cells": [
  {
   "cell_type": "markdown",
   "id": "d182d74e",
   "metadata": {},
   "source": [
    "# Metric tensor\n",
    "\n",
    "We have seen in class an example that illustrates how the components of the metric of a curved manifold can be set to $\\text{diag}(1, \\dots, 1)$ with an appropriate choice of coordinates at any given point. In this notebook, we explore the same example further.\n",
    "\n",
    "## Locally flat space (hyperbolic paraboloid)\n",
    "\n",
    "The metric of the hyperbolic paraboloid in the original coordinate system is\n",
    "\\begin{equation*}\n",
    "    g = \\left(1+4x^2\\right)\\mathrm{d}x\\otimes\\mathrm{d}x + \\left(1+4y^2\\right)\\mathrm{d}y\\otimes\\mathrm{d}y\n",
    "    + \\left(- 4xy\\right) \\left(\\mathrm{d}x\\otimes\\mathrm{d}y + \\mathrm{d}y\\otimes\\mathrm{d}x\\right),\n",
    "\\end{equation*}\n",
    "which is equal to $\\mathrm{d}x\\otimes\\mathrm{d}x + \\mathrm{d}y\\otimes\\mathrm{d}y$ at the point with coordinates $x = y = 1$. We managed to figure out that the metric components at the point $p$, with coordinates $x=y=1$, could also be set to $\\text{diag}(1, 1)$ with the following coordinate change\n",
    "\\begin{align*}\n",
    "    x' &= \\frac{x + y}{\\sqrt{2}} - \\sqrt{2} \\\\\n",
    "    y' &= \\frac{-3x + 3y}{\\sqrt{2}},\n",
    "\\end{align*}\n",
    "which assigns the coordinates $x'=y'=0$ to the point $p$.\n",
    "\n",
    "To reach that conclusion, we evaluated the metric at $x=y=1$ in the original coordinate system and diagonalized it. Then, we suitably rescaled a particular column of the transformation matrix. What was left from that example was, chiefly, to see what the metric becomes in the new coordinate system for points different from $p$.\n",
    "\n",
    "Let us begin by setting up the example:"
   ]
  },
  {
   "cell_type": "code",
   "execution_count": 56,
   "id": "b94da092",
   "metadata": {},
   "outputs": [],
   "source": [
    "import sympy as smp\n",
    "import numpy as np\n",
    "import matplotlib.pyplot as plt\n",
    "%matplotlib widget"
   ]
  },
  {
   "cell_type": "code",
   "execution_count": null,
   "id": "4a8c4de9",
   "metadata": {},
   "outputs": [],
   "source": [
    "# set coordinate systems\n",
    "xs = smp.symbols(\"x y\")\n",
    "xs_p = smp.symbols(\"x' y'\")\n",
    "\n",
    "# set transformation between coordinates: x'(x)\n",
    "xs_p_func = [(xs[0] + xs[1] - 2) / smp.sqrt(2), \n",
    "             (-3 * xs[0] + 3 * xs[1]) / smp.sqrt(2)]\n",
    "\n",
    "# obtain inverse transformation: x(x')\n",
    "eqs = [smp.Eq(x_p, x_p_func) for x_p, x_p_func in zip(xs_p, xs_p_func)]\n",
    "xs_func = [smp.solve(eqs, xs)[x] for x in xs]\n",
    "\n",
    "# define metric in {x, y} system\n",
    "g = smp.Matrix([[1 + 4 * xs[0]**2, -4 * xs[0] * xs[1]],\n",
    "                [-4 * xs[0] * xs[1], 1 + 4 * xs[1]**2]])"
   ]
  },
  {
   "cell_type": "markdown",
   "id": "c4aa5d25",
   "metadata": {},
   "source": [
    "Next, let us remember that the new metric components are given by\n",
    "\\begin{equation*}\n",
    "    g'_{\\mu\\nu} = \n",
    "    \\frac{\\partial x^\\alpha}{\\partial {x'}^{\\mu}}\n",
    "    \\frac{\\partial x^\\beta}{\\partial {x'}^{\\nu}}\n",
    "    g_{\\alpha\\beta}\n",
    "\\end{equation*}"
   ]
  },
  {
   "cell_type": "code",
   "execution_count": 77,
   "id": "54fd522c",
   "metadata": {},
   "outputs": [
    {
     "data": {
      "text/latex": [
       "$\\displaystyle \\left[\\begin{matrix}\\frac{4 y'^{2}}{9} + 1 & \\frac{4 y' \\left(x' + \\sqrt{2}\\right)}{9}\\\\\\frac{4 y' \\left(x' + \\sqrt{2}\\right)}{9} & \\frac{4 x'^{2}}{9} + \\frac{8 \\sqrt{2} x'}{9} + 1\\end{matrix}\\right]$"
      ],
      "text/plain": [
       "Matrix([\n",
       "[        4*y'**2/9 + 1,          4*y'*(x' + sqrt(2))/9],\n",
       "[4*y'*(x' + sqrt(2))/9, 4*x'**2/9 + 8*sqrt(2)*x'/9 + 1]])"
      ]
     },
     "execution_count": 77,
     "metadata": {},
     "output_type": "execute_result"
    }
   ],
   "source": [
    "# define transformation matrix\n",
    "T = smp.Matrix([[smp.diff(x_func, xp) \n",
    "                 for x_func in xs_func] for xp in xs_p])\n",
    "\n",
    "# we may use numpy's einsum function to handle the index contraction for us\n",
    "gp = smp.Matrix(np.einsum(\"am,bn,mn->ab\", T, T, g))\n",
    "\n",
    "# and finally rewrite the components in terms of the primed coordinates\n",
    "gp = gp.subs([(x, x_func) for x, x_func in zip(xs, xs_func)])\n",
    "gp.simplify()\n",
    "gp"
   ]
  },
  {
   "cell_type": "markdown",
   "id": "b8fea7c0",
   "metadata": {},
   "source": [
    "Thus, the metric tensor in the new coordinate system is\n",
    "\\begin{align*}\n",
    "    g =& \n",
    "    \\left(1 + \\frac{4{y'}^2}{9}\\right) \\mathrm{d}x'\\otimes \\mathrm{d}x'\n",
    "    + \\left(1 + \\frac{4x'\\left(x' + 2\\sqrt{2} \\right)}{9}\\right) \\mathrm{d}y'\\otimes \\mathrm{d}y' \\\\\n",
    "    &+\\left(\\frac{4 y' \\left(x' + \\sqrt{2}\\right)}{9}\\right)\n",
    "    \\left(\\mathrm{d}x'\\otimes \\mathrm{d}y' + \\mathrm{d}y'\\otimes \\mathrm{d}x'\\right),\n",
    "\\end{align*}\n",
    "which becomes $\\text{diag}(1, 1)$ at, and only at, $p$ ($x = y = 1$ or $x' = y' = 0$)."
   ]
  },
  {
   "cell_type": "markdown",
   "id": "95ce1cd3",
   "metadata": {},
   "source": [
    "## Flat space in disguise\n",
    "\n",
    "In this example, we describe flat space ($\\mathbb{R}$) in terms of a pair of coordinates $(u, v)$, both restricted to the interval $(-\\pi/2, \\pi/2)$ such that the metric is\n",
    "\\begin{equation*}\n",
    "    g = \n",
    "    \\frac{4}{9\\cos^4(u)} \\mathrm{d}u\\otimes\\mathrm{d}u + \n",
    "    \\frac{10}{9\\cos^4(v)} \\mathrm{d}v\\otimes\\mathrm{d}v + \n",
    "    \\frac{2}{9\\cos^2(u)\\cos^2(v)} (\\mathrm{d}u\\otimes\\mathrm{d}v + \\mathrm{d}v\\otimes\\mathrm{d}u) \n",
    "\\end{equation*}\n",
    "\n",
    "Just from the metric, it is hard to guess whether there exists a choice of coordinates that reveals the global flatness of the space. In the cell code below, we work the example backwards, which shows that, indeed, the metric above describes flat space."
   ]
  },
  {
   "cell_type": "code",
   "execution_count": 90,
   "id": "7283f31b",
   "metadata": {},
   "outputs": [
    {
     "data": {
      "text/latex": [
       "$\\displaystyle \\left[\\begin{matrix}\\frac{4}{9 \\cos^{4}{\\left(u \\right)}} & \\frac{2}{9 \\cos^{2}{\\left(u \\right)} \\cos^{2}{\\left(v \\right)}}\\\\\\frac{2}{9 \\cos^{2}{\\left(u \\right)} \\cos^{2}{\\left(v \\right)}} & \\frac{10}{9 \\cos^{4}{\\left(v \\right)}}\\end{matrix}\\right]$"
      ],
      "text/plain": [
       "Matrix([\n",
       "[          4/(9*cos(u)**4), 2/(9*cos(u)**2*cos(v)**2)],\n",
       "[2/(9*cos(u)**2*cos(v)**2),          10/(9*cos(v)**4)]])"
      ]
     },
     "execution_count": 90,
     "metadata": {},
     "output_type": "execute_result"
    }
   ],
   "source": [
    "# set coordinate systems\n",
    "xs = smp.symbols(\"x y\")\n",
    "us = smp.symbols(\"u v\")\n",
    "\n",
    "# set transformation between coordinates: x'(x)\n",
    "us_func = [smp.atan((xs[0] + 2*xs[1]) / smp.sqrt(2)), \n",
    "           smp.atan((xs[0] - xs[1]) / smp.sqrt(2))]\n",
    "\n",
    "# obtain inverse transformation: x(x')\n",
    "eqs = [smp.Eq(u, u_func) for u, u_func in zip(us, us_func)]\n",
    "xs_func = [smp.solve(eqs, xs)[x] for x in xs]\n",
    "\n",
    "# define metric in {x, y} system\n",
    "g = smp.Matrix([[1, 0],\n",
    "                [0, 1]])\n",
    "\n",
    "# define transformation matrix\n",
    "T = smp.Matrix([[smp.diff(x_func, u) \n",
    "                 for x_func in xs_func] for u in us])\n",
    "\n",
    "\n",
    "# we may use numpy's einsum function to handle the index contraction for us\n",
    "gp = smp.Matrix(np.einsum(\"am,bn,mn->ab\", T, T, g))\n",
    "\n",
    "# and finally rewrite the components in terms of the primed coordinates\n",
    "gp = gp.subs([(x, x_func) for x, x_func in zip(xs, xs_func)])\n",
    "gp.simplify()\n",
    "gp"
   ]
  }
 ],
 "metadata": {
  "kernelspec": {
   "display_name": "uem",
   "language": "python",
   "name": "uem"
  },
  "language_info": {
   "codemirror_mode": {
    "name": "ipython",
    "version": 3
   },
   "file_extension": ".py",
   "mimetype": "text/x-python",
   "name": "python",
   "nbconvert_exporter": "python",
   "pygments_lexer": "ipython3",
   "version": "3.12.3"
  }
 },
 "nbformat": 4,
 "nbformat_minor": 5
}
