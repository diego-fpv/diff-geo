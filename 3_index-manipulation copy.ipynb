{
 "cells": [
  {
   "cell_type": "markdown",
   "id": "9f2d8e51",
   "metadata": {},
   "source": [
    "# Index manipulations \n",
    "\n",
    "This notebook illustrates the `einsum` function of the `numpy` library, which can be used to perform summations over repeated indices."
   ]
  },
  {
   "cell_type": "code",
   "execution_count": 1,
   "id": "b94da092",
   "metadata": {},
   "outputs": [],
   "source": [
    "import numpy as np"
   ]
  },
  {
   "cell_type": "code",
   "execution_count": 2,
   "id": "4a8c4de9",
   "metadata": {},
   "outputs": [],
   "source": [
    "# components of a 4-index tensor T\n",
    "T = np.random.rand(3, 3, 3, 3)\n",
    "\n",
    "# explicit sum over first and last indices (contraction)\n",
    "trace_T = np.trace(T, axis1=0, axis2=3)\n",
    "\n",
    "# are they equal?\n",
    "assert (np.einsum(\"abca->bc\", T) - trace_T == 0).all()"
   ]
  },
  {
   "cell_type": "code",
   "execution_count": 3,
   "id": "0d834e92",
   "metadata": {},
   "outputs": [],
   "source": [
    "# other examples of einsum.\n",
    "\n",
    "T = np.random.rand(3, 3, 3, 3)\n",
    "Q = np.random.rand(3, 3, 3)\n",
    "\n",
    "# we want to contract the first index of T with the first index of Q, and likewise with the second indices\n",
    "\n",
    "# explicit sum\n",
    "sum = np.zeros((3, 3, 3))\n",
    "for c in range(3):\n",
    "    for d in range(3):\n",
    "        for e in range(3):\n",
    "            sum[c, d, e] = np.sum(T[:, :, c, d] * Q[:, :, e])  # sum over first two indices\n",
    "\n",
    "assert (np.isclose(sum, np.einsum(\"abcd,abe->cde\", T, Q)).all())"
   ]
  },
  {
   "cell_type": "code",
   "execution_count": null,
   "id": "df53396f",
   "metadata": {},
   "outputs": [],
   "source": []
  }
 ],
 "metadata": {
  "kernelspec": {
   "display_name": "uem",
   "language": "python",
   "name": "uem"
  },
  "language_info": {
   "codemirror_mode": {
    "name": "ipython",
    "version": 3
   },
   "file_extension": ".py",
   "mimetype": "text/x-python",
   "name": "python",
   "nbconvert_exporter": "python",
   "pygments_lexer": "ipython3",
   "version": "3.12.3"
  }
 },
 "nbformat": 4,
 "nbformat_minor": 5
}
